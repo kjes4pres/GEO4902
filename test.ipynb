{
 "cells": [
  {
   "cell_type": "code",
   "execution_count": 1,
   "metadata": {},
   "outputs": [
    {
     "name": "stdout",
     "output_type": "stream",
     "text": [
      "python: version 3.11.4\n",
      "zarr: version 2.18.3\n",
      "xarray: version 2024.7.0\n",
      "matplotlib: version 3.8.4\n",
      "cftime: version 1.6.4\n",
      "dask: version 2024.8.2\n",
      "cmcrameri: version 1.8\n",
      "scipy: version 1.14.1\n",
      "intake: version 2.0.7\n",
      "seaborn: version 0.13.2\n",
      "cartopy: version 0.23.0\n",
      "netCDF4: version 1.7.1\n",
      "Selected Jupyter core packages...\n",
      "IPython          : 8.27.0\n",
      "ipykernel        : 6.29.5\n",
      "ipywidgets       : 8.1.5\n",
      "jupyter_client   : 8.6.2\n",
      "jupyter_core     : 5.7.2\n",
      "jupyter_server   : 2.14.2\n",
      "jupyterlab       : 4.2.5\n",
      "nbclient         : 0.10.0\n",
      "nbconvert        : 7.16.4\n",
      "nbformat         : 5.10.4\n",
      "notebook         : 7.2.2\n",
      "qtconsole        : 5.6.0\n",
      "traitlets        : 5.14.3\n"
     ]
    }
   ],
   "source": [
    "from platform import python_version\n",
    "#import nc_time_axis\n",
    "import zarr \n",
    "import xarray as xr\n",
    "import matplotlib as mpl\n",
    "import cftime\n",
    "import dask as da\n",
    "import cmcrameri as cm\n",
    "import scipy\n",
    "import intake\n",
    "import seaborn\n",
    "#import xesmf\n",
    "import cartopy as crs\n",
    "import netCDF4\n",
    "\n",
    "print('python: version {}'.format(python_version()))\n",
    "#print('nc_time_axis: version {}'.format(nc_time_axis.__version__))\n",
    "print('zarr: version {}'.format(zarr.__version__))\n",
    "print('xarray: version {}'.format(xr.__version__))\n",
    "print('matplotlib: version {}'.format(mpl.__version__))\n",
    "print('cftime: version {}'.format(cftime.__version__))\n",
    "print('dask: version {}'.format(da.__version__))\n",
    "print('cmcrameri: version {}'.format(cm.__version__))\n",
    "print('scipy: version {}'.format(scipy.__version__))\n",
    "print('intake: version {}'.format(intake.__version__))\n",
    "print('seaborn: version {}'.format(seaborn.__version__))\n",
    "#print('xesmf: version {}'.format(xesmf.__version__))\n",
    "print('cartopy: version {}'.format(crs.__version__))\n",
    "print('netCDF4: version {}'.format(netCDF4.__version__))\n",
    "\n",
    "!jupyter --version"
   ]
  }
 ],
 "metadata": {
  "kernelspec": {
   "display_name": "geo4902env",
   "language": "python",
   "name": "python3"
  },
  "language_info": {
   "codemirror_mode": {
    "name": "ipython",
    "version": 3
   },
   "file_extension": ".py",
   "mimetype": "text/x-python",
   "name": "python",
   "nbconvert_exporter": "python",
   "pygments_lexer": "ipython3",
   "version": "3.11.4"
  }
 },
 "nbformat": 4,
 "nbformat_minor": 2
}
